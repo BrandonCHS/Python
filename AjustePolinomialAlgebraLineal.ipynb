{
  "nbformat": 4,
  "nbformat_minor": 0,
  "metadata": {
    "colab": {
      "name": "AjustePolinomialAlgebraLineal.ipynb",
      "provenance": [],
      "authorship_tag": "ABX9TyPzSGh9LVaiedIQ03Ll7IdS",
      "include_colab_link": true
    },
    "kernelspec": {
      "name": "python3",
      "display_name": "Python 3"
    },
    "accelerator": "TPU"
  },
  "cells": [
    {
      "cell_type": "markdown",
      "metadata": {
        "id": "view-in-github",
        "colab_type": "text"
      },
      "source": [
        "<a href=\"https://colab.research.google.com/github/BrandonCHS/Python/blob/master/AjustePolinomialAlgebraLineal.ipynb\" target=\"_parent\"><img src=\"https://colab.research.google.com/assets/colab-badge.svg\" alt=\"Open In Colab\"/></a>"
      ]
    },
    {
      "cell_type": "code",
      "metadata": {
        "id": "_lOYPadxMrxC",
        "colab_type": "code",
        "colab": {
          "base_uri": "https://localhost:8080/",
          "height": 68
        },
        "outputId": "046d1f94-9e7b-4f50-8723-fdf7eb729fbe"
      },
      "source": [
        "import numpy as np #Importar la librería numpy\n",
        "\n",
        "def polyfit2(x,y,n):\n",
        "\n",
        "  def inv(A):\n",
        "    return np.linalg.inv(A) #Matriz inversa de la matriz A\n",
        "  def trans(A):\n",
        "    return A.getT() #Transpuesta de la matriz A\n",
        "  def prod(A,B):\n",
        "    return np.dot(A,B) #Producto punto entre los vectores A y B\n",
        "\n",
        "  xlen = len(x) #Calcula la longitud del vector x\n",
        "  ylen = len(y) #Calcula la longitud del vector y\n",
        "  one = np.ones((xlen,n+1),dtype=int) #Matriz de unos de dimensiones (xlen,n+1)\n",
        "  c1=one[:,[1]] #Seleccionamos solo la columna uno de la matriz one\n",
        "  xT=np.matrix(x) #Combierte los datos de x a una matriz de numpy\n",
        "  yT=np.matrix(y) #Combierte los datos de y a una matriz de numpy\n",
        "  c2=xT.getT()\n",
        "  c3=np.power(c2,2) #Eleva al cuadrado los elementos de la matriz c2\n",
        "  A=np.hstack([c1,c2,c3]) #Agrupa las columnas c1, c2, c3 en una matriz A\n",
        "  ajuste = prod(prod(inv(prod(trans(A),A)),trans(A)),trans(yT)) #La función prod realiza los productos de las matrices que recibe como argumentos\n",
        "  print(ajuste) #Mostramos a ajuste\n",
        "\n",
        "x=[1.0,-2.0,3.0,4.0] #Revisar el ejemplo 2 de la sección 6.2 del libro de Grossman Stanley \"Aplicaciones de álgebra lineal\", Iberoamérica, 1988\n",
        "y=[4.0,5.0,-1.0,1.0]\n",
        "\n",
        "polyfit2(x,y,2) #El resultado es el polinomio y= -0.0378x^2 - 0.8106x + 3.75 (interpreten los datos del vector según el grado de los coeficientes)\n",
        "\n",
        "#Los datos otorgados en este código son los exactos, los cuales indican el mejor ajuste cuadrático y=3.75 - 0.81x - 0.038x^2\n",
        "#dichos datos son extraidos del ejemplo 2 de la sección 6.2 del libro de Grossman Stanley \"Aplicaciones de álgebra lineal\", Iberoamérica, 1988;\n",
        "#En el libro se muestra el procedimiento que se llevo a cabo desde el ejercicio 1, el cual es una recta y qué para este ejercicio es una parabola\n",
        "# las coordenadas fueron (-2,,5), (1, 4), (4, 1) y (3, -1)\n"
      ],
      "execution_count": 5,
      "outputs": [
        {
          "output_type": "stream",
          "text": [
            "[[ 3.75      ]\n",
            " [-0.81060606]\n",
            " [-0.03787879]]\n"
          ],
          "name": "stdout"
        }
      ]
    }
  ]
}